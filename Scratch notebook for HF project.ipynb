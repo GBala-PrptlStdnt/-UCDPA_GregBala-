{
 "cells": [
  {
   "cell_type": "code",
   "execution_count": 34,
   "metadata": {},
   "outputs": [],
   "source": [
    "import numpy as np\n",
    "import pandas as pd\n",
    "import matplotlib.pyplot as plt\n",
    "import seaborn as sns\n",
    "\n",
    "\"\"\"\n",
    "from sklearn.metrics import classification_report, log_loss, accuracy_score\n",
    "from sklearn.metrics import mean_squared_error\n",
    "from sklearn.model_selection import KFold\n",
    "from sklearn.model_selection import train_test_split\n",
    "from sklearn.linear_model import Ridge\n",
    "from sklearn.linear_model import Lasso\n",
    "\"\"\""
   ]
  },
  {
   "cell_type": "code",
   "execution_count": 36,
   "metadata": {
    "scrolled": true
   },
   "outputs": [
    {
     "data": {
      "text/html": [
       "<div>\n",
       "<style scoped>\n",
       "    .dataframe tbody tr th:only-of-type {\n",
       "        vertical-align: middle;\n",
       "    }\n",
       "\n",
       "    .dataframe tbody tr th {\n",
       "        vertical-align: top;\n",
       "    }\n",
       "\n",
       "    .dataframe thead th {\n",
       "        text-align: right;\n",
       "    }\n",
       "</style>\n",
       "<table border=\"1\" class=\"dataframe\">\n",
       "  <thead>\n",
       "    <tr style=\"text-align: right;\">\n",
       "      <th></th>\n",
       "      <th>Age</th>\n",
       "      <th>Age.Group</th>\n",
       "      <th>Gender</th>\n",
       "      <th>Locality</th>\n",
       "      <th>Marital status</th>\n",
       "      <th>Life.Style</th>\n",
       "      <th>Sleep</th>\n",
       "      <th>Category</th>\n",
       "      <th>Depression</th>\n",
       "      <th>Hyperlipi</th>\n",
       "      <th>...</th>\n",
       "      <th>oldpeak</th>\n",
       "      <th>slope</th>\n",
       "      <th>ca</th>\n",
       "      <th>thal</th>\n",
       "      <th>num</th>\n",
       "      <th>SK</th>\n",
       "      <th>SK.React</th>\n",
       "      <th>Reaction</th>\n",
       "      <th>Mortality</th>\n",
       "      <th>Follow.Up</th>\n",
       "    </tr>\n",
       "  </thead>\n",
       "  <tbody>\n",
       "    <tr>\n",
       "      <th>0</th>\n",
       "      <td>45</td>\n",
       "      <td>41-50</td>\n",
       "      <td>Female</td>\n",
       "      <td>RURAL</td>\n",
       "      <td>MARRIED</td>\n",
       "      <td>NO</td>\n",
       "      <td>NO</td>\n",
       "      <td>FREE</td>\n",
       "      <td>YES</td>\n",
       "      <td>YES</td>\n",
       "      <td>...</td>\n",
       "      <td>3.0</td>\n",
       "      <td>2</td>\n",
       "      <td>0</td>\n",
       "      <td>7</td>\n",
       "      <td>2</td>\n",
       "      <td>1</td>\n",
       "      <td>NO</td>\n",
       "      <td>0</td>\n",
       "      <td>0</td>\n",
       "      <td>60</td>\n",
       "    </tr>\n",
       "    <tr>\n",
       "      <th>1</th>\n",
       "      <td>51</td>\n",
       "      <td>51-60</td>\n",
       "      <td>Female</td>\n",
       "      <td>URBAN</td>\n",
       "      <td>MARRIED</td>\n",
       "      <td>NO</td>\n",
       "      <td>NO</td>\n",
       "      <td>FREE</td>\n",
       "      <td>YES</td>\n",
       "      <td>YES</td>\n",
       "      <td>...</td>\n",
       "      <td>1.2</td>\n",
       "      <td>2</td>\n",
       "      <td>0</td>\n",
       "      <td>7</td>\n",
       "      <td>2</td>\n",
       "      <td>1</td>\n",
       "      <td>NO</td>\n",
       "      <td>0</td>\n",
       "      <td>0</td>\n",
       "      <td>15</td>\n",
       "    </tr>\n",
       "    <tr>\n",
       "      <th>2</th>\n",
       "      <td>55</td>\n",
       "      <td>51-60</td>\n",
       "      <td>Female</td>\n",
       "      <td>RURAL</td>\n",
       "      <td>MARRIED</td>\n",
       "      <td>YES</td>\n",
       "      <td>YES</td>\n",
       "      <td>FREE</td>\n",
       "      <td>YES</td>\n",
       "      <td>YES</td>\n",
       "      <td>...</td>\n",
       "      <td>3.4</td>\n",
       "      <td>2</td>\n",
       "      <td>0</td>\n",
       "      <td>3</td>\n",
       "      <td>2</td>\n",
       "      <td>1</td>\n",
       "      <td>NO</td>\n",
       "      <td>0</td>\n",
       "      <td>0</td>\n",
       "      <td>6</td>\n",
       "    </tr>\n",
       "    <tr>\n",
       "      <th>3</th>\n",
       "      <td>55</td>\n",
       "      <td>51-60</td>\n",
       "      <td>Female</td>\n",
       "      <td>RURAL</td>\n",
       "      <td>MARRIED</td>\n",
       "      <td>YES</td>\n",
       "      <td>YES</td>\n",
       "      <td>FREE</td>\n",
       "      <td>YES</td>\n",
       "      <td>YES</td>\n",
       "      <td>...</td>\n",
       "      <td>2.0</td>\n",
       "      <td>2</td>\n",
       "      <td>1</td>\n",
       "      <td>7</td>\n",
       "      <td>3</td>\n",
       "      <td>1</td>\n",
       "      <td>NO</td>\n",
       "      <td>0</td>\n",
       "      <td>0</td>\n",
       "      <td>52</td>\n",
       "    </tr>\n",
       "    <tr>\n",
       "      <th>4</th>\n",
       "      <td>56</td>\n",
       "      <td>51-60</td>\n",
       "      <td>Female</td>\n",
       "      <td>RURAL</td>\n",
       "      <td>MARRIED</td>\n",
       "      <td>YES</td>\n",
       "      <td>NO</td>\n",
       "      <td>FREE</td>\n",
       "      <td>YES</td>\n",
       "      <td>YES</td>\n",
       "      <td>...</td>\n",
       "      <td>4.0</td>\n",
       "      <td>3</td>\n",
       "      <td>2</td>\n",
       "      <td>7</td>\n",
       "      <td>3</td>\n",
       "      <td>1</td>\n",
       "      <td>NO</td>\n",
       "      <td>0</td>\n",
       "      <td>0</td>\n",
       "      <td>34</td>\n",
       "    </tr>\n",
       "  </tbody>\n",
       "</table>\n",
       "<p>5 rows × 60 columns</p>\n",
       "</div>"
      ],
      "text/plain": [
       "   Age Age.Group  Gender Locality   Marital status                         \\\n",
       "0   45     41-50  Female      RURAL                               MARRIED   \n",
       "1   51     51-60  Female      URBAN                               MARRIED   \n",
       "2   55     51-60  Female      RURAL                               MARRIED   \n",
       "3   55     51-60  Female      RURAL                               MARRIED   \n",
       "4   56     51-60  Female      RURAL                               MARRIED   \n",
       "\n",
       "  Life.Style                                                                                \\\n",
       "0                                                 NO                                         \n",
       "1                                                 NO                                         \n",
       "2                                                YES                                         \n",
       "3                                                YES                                         \n",
       "4                                                YES                                         \n",
       "\n",
       "  Sleep Category Depression Hyperlipi  ... oldpeak slope  ca  thal num SK  \\\n",
       "0    NO     FREE        YES       YES  ...     3.0     2   0     7   2  1   \n",
       "1    NO     FREE        YES       YES  ...     1.2     2   0     7   2  1   \n",
       "2   YES     FREE        YES       YES  ...     3.4     2   0     3   2  1   \n",
       "3   YES     FREE        YES       YES  ...     2.0     2   1     7   3  1   \n",
       "4    NO     FREE        YES       YES  ...     4.0     3   2     7   3  1   \n",
       "\n",
       "   SK.React  Reaction  Mortality  Follow.Up  \n",
       "0        NO         0          0         60  \n",
       "1        NO         0          0         15  \n",
       "2        NO         0          0          6  \n",
       "3        NO         0          0         52  \n",
       "4        NO         0          0         34  \n",
       "\n",
       "[5 rows x 60 columns]"
      ]
     },
     "execution_count": 36,
     "metadata": {},
     "output_type": "execute_result"
    }
   ],
   "source": [
    "# HF dataset taken from:\n",
    "# https://www.kaggle.com/datasets/asgharalikhan/mortality-rate-heart-patient-pakistan-hospital\n",
    "\n",
    "HF_Dataset = 'HFDataset.csv'\n",
    "HFdata_df = pd.read_csv(HF_Dataset)\n",
    "HFdata_df.head()"
   ]
  },
  {
   "cell_type": "code",
   "execution_count": null,
   "metadata": {},
   "outputs": [],
   "source": [
    "#Use kaggle API to download "
   ]
  },
  {
   "cell_type": "code",
   "execution_count": 37,
   "metadata": {
    "scrolled": true
   },
   "outputs": [
    {
     "name": "stdout",
     "output_type": "stream",
     "text": [
      "<class 'pandas.core.frame.DataFrame'>\n",
      "RangeIndex: 368 entries, 0 to 367\n",
      "Data columns (total 60 columns):\n",
      " #   Column                                                                                    Non-Null Count  Dtype  \n",
      "---  ------                                                                                    --------------  -----  \n",
      " 0   Age                                                                                       368 non-null    int64  \n",
      " 1   Age.Group                                                                                 368 non-null    object \n",
      " 2   Gender                                                                                    368 non-null    object \n",
      " 3   Locality                                                                                  368 non-null    object \n",
      " 4   Marital status                                                                            368 non-null    object \n",
      " 5   Life.Style                                                                                368 non-null    object \n",
      " 6   Sleep                                                                                     368 non-null    object \n",
      " 7   Category                                                                                  368 non-null    object \n",
      " 8   Depression                                                                                368 non-null    object \n",
      " 9   Hyperlipi                                                                                 368 non-null    object \n",
      " 10  Smoking                                                                                   368 non-null    object \n",
      " 11  Family.History                                                                            368 non-null    object \n",
      " 12  F.History                                                                                 368 non-null    int64  \n",
      " 13  Diabetes                                                                                  368 non-null    int64  \n",
      " 14  HTN                                                                                       368 non-null    object \n",
      " 15  Allergies                                                                                 368 non-null    object \n",
      " 16  BP                                                                                        368 non-null    float64\n",
      " 17  Thrombolysis                                                                              368 non-null    int64  \n",
      " 18  BGR                                                                                       368 non-null    int64  \n",
      " 19  B.Urea                                                                                    368 non-null    float64\n",
      " 20  S.Cr                                                                                      368 non-null    float64\n",
      " 21  S.Sodium                                                                                  368 non-null    int64  \n",
      " 22  S.Potassium                                                                               368 non-null    float64\n",
      " 23  S.Chloride                                                                                368 non-null    int64  \n",
      " 24  C.P.K                                                                                     368 non-null    int64  \n",
      " 25  CK.MB                                                                                     368 non-null    int64  \n",
      " 26  ESR                                                                                       368 non-null    int64  \n",
      " 27  WBC                                                                                       368 non-null    int64  \n",
      " 28  RBC                                                                                       368 non-null    float64\n",
      " 29  Hemoglobin                                                                                368 non-null    float64\n",
      " 30  P.C.V                                                                                     368 non-null    float64\n",
      " 31  M.C.V                                                                                     368 non-null    float64\n",
      " 32  M.C.H                                                                                     368 non-null    float64\n",
      " 33  M.C.H.C                                                                                   368 non-null    float64\n",
      " 34  PLATELET_COUNT                                                                            368 non-null    int64  \n",
      " 35  NEUTROPHIL                                                                                368 non-null    float64\n",
      " 36  LYMPHO                                                                                    368 non-null    float64\n",
      " 37  MONOCYTE                                                                                  368 non-null    float64\n",
      " 38  EOSINO                                                                                    368 non-null    int64  \n",
      " 39  Others                                                                                    368 non-null    object \n",
      " 40  CO                                                                                        368 non-null    object \n",
      " 41  Diagnosis                                                                                 368 non-null    object \n",
      " 42  Hypersensitivity                                                                          368 non-null    object \n",
      " 43  cp                                                                                        368 non-null    int64  \n",
      " 44  trestbps                                                                                  368 non-null    int64  \n",
      " 45  chol                                                                                      368 non-null    int64  \n",
      " 46  fbs                                                                                       368 non-null    int64  \n",
      " 47  restecg                                                                                   368 non-null    int64  \n",
      " 48  thalach                                                                                   368 non-null    int64  \n",
      " 49  exang                                                                                     368 non-null    int64  \n",
      " 50  oldpeak                                                                                   368 non-null    float64\n",
      " 51  slope                                                                                     368 non-null    int64  \n",
      " 52  ca                                                                                        368 non-null    int64  \n",
      " 53  thal                                                                                      368 non-null    int64  \n",
      " 54  num                                                                                       368 non-null    int64  \n",
      " 55  SK                                                                                        368 non-null    int64  \n",
      " 56  SK.React                                                                                  368 non-null    object \n",
      " 57  Reaction                                                                                  368 non-null    int64  \n",
      " 58  Mortality                                                                                 368 non-null    int64  \n",
      " 59  Follow.Up                                                                                 368 non-null    int64  \n",
      "dtypes: float64(14), int64(28), object(18)\n",
      "memory usage: 172.6+ KB\n",
      "None\n"
     ]
    }
   ],
   "source": [
    "print(HFdata_df.info())"
   ]
  },
  {
   "cell_type": "code",
   "execution_count": 66,
   "metadata": {
    "scrolled": true
   },
   "outputs": [
    {
     "name": "stdout",
     "output_type": "stream",
     "text": [
      "   Sleep Category Smoking Family.History  F.History\n",
      "0     NO     FREE      NO             NO          0\n",
      "1     NO     FREE      NO             NO          0\n",
      "2    YES     FREE      NO             NO          0\n",
      "3    YES     FREE      NO             NO          0\n",
      "4     NO     FREE      NO             NO          0\n",
      "5     NO     FREE      NO             NO          0\n",
      "6    YES     PAID      NO             NO          0\n",
      "7     NO     FREE      NO             NO          0\n",
      "8     NO     FREE      NO             NO          0\n",
      "9    YES     FREE      NO             NO          0\n",
      "10   YES     FREE      NO             NO          0\n",
      "11    NO     FREE      NO             NO          0\n",
      "12    NO     FREE      NO             NO          0\n",
      "13   YES     PAID      NO             NO          0\n",
      "14    NO     FREE      NO             NO          0\n",
      "15    NO     FREE      NO             NO          0\n",
      "16   YES     FREE      NO             NO          0\n",
      "17   YES     FREE      NO             NO          0\n",
      "18    NO     FREE      NO             NO          0\n",
      "19    NO     FREE      NO             NO          0\n",
      "20   YES     PAID      NO             NO          0\n",
      "21   YES     FREE      NO             NO          0\n",
      "22    NO     FREE      NO             NO          0\n",
      "23    NO     FREE      NO             NO          0\n",
      "24   YES     PAID      NO             NO          0\n",
      "25   YES     FREE      NO             NO          0\n",
      "26   YES     FREE     YES            YES          1\n",
      "27    NO     FREE      NO            YES          1\n",
      "28   YES     FREE     YES             NO          0\n",
      "29    NO     FREE     YES             NO          0\n"
     ]
    }
   ],
   "source": [
    "df_data_bloods_Enviro = HFdata_df[['Sleep', 'Category', 'Smoking', 'Family.History', 'F.History',]]\n",
    "print(df_data_bloods_Enviro.head(30))\n"
   ]
  },
  {
   "cell_type": "code",
   "execution_count": 40,
   "metadata": {},
   "outputs": [],
   "source": [
    "# Breakdown table to manageable groups:\n",
    "    # ID: Age, Age Group, Gender, Locality,\n",
    "    # PMHx: Depression, Hyperlipidemia, Diabetes, HTN, Allergies, BP, Thrombolysis\n",
    "    # Enviro: Marital Status, Life Style, Sleep, Category, Smoking, Family History, F.History, \n",
    "    # Bloods - Chem: B.Urea, S.Cr, S.Sodium, S.Potassium, S.Chloride, C.P.K, CK.MB, ESR\n",
    "    \n",
    "    # Bloods - CBC: WBC, RBC, Hemoglobin, P.C.V, M.C.V, M.C.H, M.C.H.C, PLATELET_COUNT, NEUTROPHIL, LYMPHO, MONOCYTE, EOSINO \n",
    "    \n",
    "    "
   ]
  },
  {
   "cell_type": "code",
   "execution_count": 52,
   "metadata": {},
   "outputs": [
    {
     "name": "stdout",
     "output_type": "stream",
     "text": [
      "   B.Urea  S.Cr  S.Sodium  S.Potassium  S.Chloride  C.P.K  CK.MB  ESR\n",
      "0    28.0   0.9       138          3.3         107    130     30   11\n",
      "1    17.0   0.7       144          4.7         104    163     30   27\n",
      "2    37.0   1.0       137          4.2         103    149     22   19\n",
      "3    37.0   1.0       137          4.2         103    149     22   19\n",
      "4    78.0   1.2       139          4.5         112     75     18   13\n"
     ]
    }
   ],
   "source": [
    "df_data_bloods_Chem = HFdata_df[['B.Urea', 'S.Cr', 'S.Sodium', 'S.Potassium', 'S.Chloride', 'C.P.K', 'CK.MB', 'ESR']]\n",
    "print(df_data_bloods_Chem.head())\n"
   ]
  },
  {
   "cell_type": "code",
   "execution_count": 41,
   "metadata": {},
   "outputs": [
    {
     "data": {
      "image/png": "[encoded data removed]",
      "text/plain": [
       "<Figure size 432x288 with 1 Axes>"
      ]
     },
     "metadata": {
      "needs_background": "light"
     },
     "output_type": "display_data"
    }
   ],
   "source": [
    "#Plot histogram for Age\n",
    "\n",
    "_ = plt.hist(HFdata_df['Age'])\n",
    "_ = plt.xlabel('Age')\n",
    "_ = plt.ylabel('Count')"
   ]
  },
  {
   "cell_type": "code",
   "execution_count": 42,
   "metadata": {},
   "outputs": [
    {
     "data": {
      "image/png": "[encoded data removed]",
      "text/plain": [
       "<Figure size 432x288 with 1 Axes>"
      ]
     },
     "metadata": {
      "needs_background": "light"
     },
     "output_type": "display_data"
    }
   ],
   "source": [
    "#Plot histogram for gender\n",
    "\n",
    "_ = plt.hist(HFdata_df['Gender'])\n",
    "_ = plt.xlabel('Gender')\n",
    "_ = plt.ylabel('Count')"
   ]
  },
  {
   "cell_type": "code",
   "execution_count": 43,
   "metadata": {
    "scrolled": true
   },
   "outputs": [
    {
     "data": {
      "image/png": "[encoded data removed]",
      "text/plain": [
       "<Figure size 432x288 with 1 Axes>"
      ]
     },
     "metadata": {
      "needs_background": "light"
     },
     "output_type": "display_data"
    }
   ],
   "source": [
    "#Plot histogram for Age Group\n",
    "\n",
    "_ = plt.hist(HFdata_df['Age.Group'])\n",
    "_ = plt.xlabel('Age Group')\n",
    "_ = plt.ylabel('Count')"
   ]
  },
  {
   "cell_type": "code",
   "execution_count": 44,
   "metadata": {
    "scrolled": true
   },
   "outputs": [
    {
     "data": {
      "image/png": "[encoded data removed]",
      "text/plain": [
       "<Figure size 432x288 with 1 Axes>"
      ]
     },
     "metadata": {
      "needs_background": "light"
     },
     "output_type": "display_data"
    }
   ],
   "source": [
    "#Plot histogram for Smoking data\n",
    "\n",
    "_ = plt.hist(HFdata_df['Smoking'])\n",
    "             #.astype('string'))\n",
    "_ = plt.xlabel('Smoking')\n",
    "_ = plt.ylabel('Count')"
   ]
  },
  {
   "cell_type": "code",
   "execution_count": 45,
   "metadata": {},
   "outputs": [],
   "source": [
    "#Chose variables to use as Feature, use HF as Target variable\n",
    "\n"
   ]
  },
  {
   "cell_type": "code",
   "execution_count": 46,
   "metadata": {},
   "outputs": [],
   "source": [
    "# ?? Use Scikit-learn to fit classifier? if needed\n"
   ]
  },
  {
   "cell_type": "code",
   "execution_count": 53,
   "metadata": {},
   "outputs": [
    {
     "name": "stdout",
     "output_type": "stream",
     "text": [
      "(368, 8) (368,)\n"
     ]
    }
   ],
   "source": [
    "# Generate X and y\n",
    "\n",
    "X = df_data_bloods_Chem\n",
    "y = HFdata_df[\"Mortality\"]\n",
    "print(X.shape, y.shape)"
   ]
  },
  {
   "cell_type": "code",
   "execution_count": 60,
   "metadata": {},
   "outputs": [
    {
     "data": {
      "image/png": "[encoded data removed]",
      "text/plain": [
       "<Figure size 432x288 with 1 Axes>"
      ]
     },
     "metadata": {
      "needs_background": "light"
     },
     "output_type": "display_data"
    }
   ],
   "source": [
    "# Run Lasso for feature selection.\n",
    "from sklearn.linear_model import Lasso\n",
    "\n",
    "X_lass = X.values\n",
    "y_lass = y.values\n",
    "names = df_data_bloods_Chem.columns\n",
    "lasso = Lasso(alpha=0.1)\n",
    "lasso_coef = lasso.fit(X, y).coef_\n",
    "plt.bar(names, lasso_coef)\n",
    "plt.xticks(rotation=45)\n",
    "plt.show()"
   ]
  },
  {
   "cell_type": "code",
   "execution_count": null,
   "metadata": {},
   "outputs": [],
   "source": [
    "#Use ReGex to filter for relevant keywords\n",
    "Relevant_keywords_CO = pd.list[chest pain, SOB,]\n",
    "Relevant_keywords_Diagnosis = \n",
    "Relevant_keywords_other = "
   ]
  },
  {
   "cell_type": "code",
   "execution_count": null,
   "metadata": {},
   "outputs": [],
   "source": [
    "for keyword in column\n",
    "# Create a new column called \"CO_contains_chest_pain\" to store the search results\n",
    "    \n",
    "data['CO_contains_chest_pain'] = data['CO'].str.contains(r'(chest pain|central chest pain)', flags=re.IGNORECASE, regex=True)\n",
    "\n",
    "# Filter the DataFrame to show only the rows where \"Chest Pain\" is found in the \"CO\" column\n",
    "filtered_data = data[data['CO_contains_chest_pain']]\n"
   ]
  },
  {
   "cell_type": "code",
   "execution_count": 82,
   "metadata": {},
   "outputs": [
    {
     "name": "stdout",
     "output_type": "stream",
     "text": [
      "['EXT. ACUTE WALL M.I' 'A/W M.I' 'AC I/W M.I (RV) RE. M.I ' 'I/W M.I'\n",
      " 'ACS, NSTEMI' 'AC I/W M.I' 'A/S WALL M.I' 'INF WALL M.I'\n",
      " 'POSTERIOR WALL M.I' 'Inf. Wall M.I' 'Acute I/W M.I'\n",
      " 'Ac I/P M.Iwith RV Infarct' 'ACUTE I/W M.I' 'M.I ,ACS' 'STEMI'\n",
      " 'AC. WALL M.I' 'A/C, A/W M.I' 'CARDIOGENIC SHOCK' 'NSTEM.I' 'I/P M.I'\n",
      " 'SEVERE MR, MVR' 'Ext. Ant wall M.I' 'old I/W M.I, ACS.'\n",
      " 'A LATERAL WALL M.I' 'A/S M.I' 'A/CI/W M.I' 'Acute and Ant Wall MI, ACS.'\n",
      " 'A/L WALL M.I' 'ST-T ELEVATION POST SK' 'AC. I/W M.I'\n",
      " 'ACS. ACUTE LEFT WALL M.I' 'Inf wall M.I' 'AC. I/W M.I, SHOCK'\n",
      " 'AC. A/W M.I' 'Inf wall RE. M.I' 'AC.LBBB' 'AC. A/L M.I']\n"
     ]
    }
   ],
   "source": [
    "print(HFdata_df[\"Diagnosis\"].unique())"
   ]
  },
  {
   "cell_type": "code",
   "execution_count": 94,
   "metadata": {},
   "outputs": [
    {
     "name": "stdout",
     "output_type": "stream",
     "text": [
      "['CENTRAL Chest pain,' 'Central Chest pain,'\n",
      " 'Central Chest pain,SOB, Sweating' 'Chest pain 1 hr' 'Chest pain 6 HR'\n",
      " 'Chest pain for 2 to 3 hr' 'Chest pain from 3 hr' 'Chest pain,'\n",
      " 'Chest pain, 2 HR' 'Chest pain, 4 HR' 'Chest pain, COLD SWEATING'\n",
      " 'Chest pain, SOB,' 'Chest pain, SOB,COLD SWEATING' 'Chest pain, SWEATING'\n",
      " 'Chest pain, SWEATING,VOMITING' 'Chest pain, Sweating, SOB'\n",
      " 'Chest pain, TIGHTNESS' 'Chest pain, VERTIGO,SWEATING'\n",
      " 'Chest pain, VOMITING' 'Chest pain,COLD SWEATING, '\n",
      " 'Chest pain,COLD SWEATING, VOMITING' 'Chest pain,COUGH'\n",
      " 'Chest pain,NAUSEA, SWELLOWING' 'Chest pain,SOB'\n",
      " 'Chest pain,SOB, Cold sweating'\n",
      " 'Chest pain,SOB, HEART SINKING , PALPITATION'\n",
      " 'Chest pain,SWEATING, NAUSEA' 'Chest pain,Sweating, '\n",
      " 'Chest pain,VOMITING. SWEATING ' 'Chest pain,VOMITING.,SOB'\n",
      " 'Chest pain,heart sinking, vomiting'\n",
      " 'Chest pain,nausea,vertigo,sweating,headache'\n",
      " 'Chest pain,sweating,vomiting' 'Chest pain,vomiting, sweating'\n",
      " 'Chest pain4 HR, SWEATING' 'SOB FROM 1 DAY '\n",
      " 'SOB, DIZZINESS, CHEST PAIN,NAUSEA,DIAPHORESIS']\n",
      "['A LATERAL WALL M.I' 'A/C, A/W M.I' 'A/CI/W M.I' 'A/L WALL M.I' 'A/S M.I'\n",
      " 'A/S WALL M.I' 'A/W M.I' 'AC I/W M.I' 'AC I/W M.I (RV) RE. M.I '\n",
      " 'AC. A/L M.I' 'AC. A/W M.I' 'AC. I/W M.I' 'AC. I/W M.I, SHOCK'\n",
      " 'AC. WALL M.I' 'AC.LBBB' 'ACS, NSTEMI' 'ACS. ACUTE LEFT WALL M.I'\n",
      " 'ACUTE I/W M.I' 'Ac I/P M.Iwith RV Infarct' 'Acute I/W M.I'\n",
      " 'Acute and Ant Wall MI, ACS.' 'CARDIOGENIC SHOCK' 'EXT. ACUTE WALL M.I'\n",
      " 'Ext. Ant wall M.I' 'I/P M.I' 'I/W M.I' 'INF WALL M.I' 'Inf wall M.I'\n",
      " 'Inf wall RE. M.I' 'Inf. Wall M.I' 'M.I ,ACS' 'NSTEM.I'\n",
      " 'POSTERIOR WALL M.I' 'SEVERE MR, MVR' 'ST-T ELEVATION POST SK' 'STEMI'\n",
      " 'old I/W M.I, ACS.']\n"
     ]
    }
   ],
   "source": [
    "import numpy as np\n",
    "Col_unique_list = [\"CO\", \"Diagnosis\",]\n",
    "\n",
    "for name in Col_unique_list:\n",
    "    unique_content = np.unique(HFdata_df[name])\n",
    "    print(unique_content)"
   ]
  },
  {
   "cell_type": "code",
   "execution_count": 102,
   "metadata": {},
   "outputs": [
    {
     "name": "stdout",
     "output_type": "stream",
     "text": [
      "['Chest pain,', 'Central Chest pain,', 'Chest pain,SOB, Cold sweating', 'CENTRAL Chest pain,', 'SOB FROM 1 DAY ', 'Chest pain, SWEATING', 'Chest pain,SOB', 'Chest pain 1 hr', 'Chest pain, VOMITING', 'Chest pain,heart sinking, vomiting', 'Chest pain,nausea,vertigo,sweating,headache', 'Chest pain, 2 HR', 'Chest pain,NAUSEA, SWELLOWING', 'Chest pain,COLD SWEATING, VOMITING', 'Chest pain,Sweating, ', 'Chest pain,vomiting, sweating', 'SOB, DIZZINESS, CHEST PAIN,NAUSEA,DIAPHORESIS', 'Chest pain, 4 HR', 'Chest pain,SOB, HEART SINKING , PALPITATION', 'Chest pain4 HR, SWEATING', 'Chest pain from 3 hr', 'Central Chest pain,SOB, Sweating', 'Chest pain,sweating,vomiting', 'Chest pain,VOMITING.,SOB', 'Chest pain, Sweating, SOB', 'Chest pain,COLD SWEATING, ', 'Chest pain,COUGH', 'Chest pain for 2 to 3 hr', 'Chest pain,SWEATING, NAUSEA', 'Chest pain, VERTIGO,SWEATING', 'Chest pain, TIGHTNESS', 'Chest pain, SOB,', 'Chest pain,VOMITING. SWEATING ', 'Chest pain, SWEATING,VOMITING', 'Chest pain, SOB,COLD SWEATING', 'Chest pain, COLD SWEATING', 'Chest pain 6 HR']\n"
     ]
    }
   ],
   "source": [
    "import numpy as np\n",
    "Col_unique_list = [\"CO\", \"Diagnosis\",]\n",
    "\n",
    "data = HFdata_df[\"CO\"]\n",
    "\n",
    "unique_list = list()\n",
    "unique_items = 0\n",
    "\n",
    "for item in data:\n",
    "    if item not in unique_list:\n",
    "        unique_list.append(item)\n",
    "        unique_items += 1\n",
    "\n",
    "print(unique_list)"
   ]
  },
  {
   "cell_type": "code",
   "execution_count": 54,
   "metadata": {},
   "outputs": [],
   "source": [
    "#Run Split to generate test and train data\n",
    "\n",
    "#Needed X, y\n",
    "\n",
    "from sklearn.model_selection import train_test_split\n",
    "\n",
    "X_train, X_test, y_train, y_test = train_test_split(X, y, test_size=0.3, random_state=15, stratify=y)\n",
    "\n",
    "\n",
    "\n",
    "\n",
    "\n",
    "\n"
   ]
  },
  {
   "cell_type": "code",
   "execution_count": 56,
   "metadata": {},
   "outputs": [
    {
     "ename": "NameError",
     "evalue": "name 'score' is not defined",
     "output_type": "error",
     "traceback": [
      "\u001b[0;31m---------------------------------------------------------------------------\u001b[0m",
      "\u001b[0;31mNameError\u001b[0m                                 Traceback (most recent call last)",
      "\u001b[0;32m<ipython-input-56-6de8eb52681d>\u001b[0m in \u001b[0;36m<module>\u001b[0;34m\u001b[0m\n\u001b[1;32m     13\u001b[0m     \u001b[0;31m#y_pred = ridge.predict(X_test)\u001b[0m\u001b[0;34m\u001b[0m\u001b[0;34m\u001b[0m\u001b[0;34m\u001b[0m\u001b[0m\n\u001b[1;32m     14\u001b[0m     \u001b[0mscores\u001b[0m \u001b[0;34m=\u001b[0m \u001b[0mridge\u001b[0m\u001b[0;34m.\u001b[0m\u001b[0mscore\u001b[0m\u001b[0;34m(\u001b[0m\u001b[0mX_test\u001b[0m\u001b[0;34m,\u001b[0m \u001b[0my_test\u001b[0m\u001b[0;34m)\u001b[0m\u001b[0;34m\u001b[0m\u001b[0;34m\u001b[0m\u001b[0m\n\u001b[0;32m---> 15\u001b[0;31m     \u001b[0mridge_scores\u001b[0m\u001b[0;34m.\u001b[0m\u001b[0mappend\u001b[0m\u001b[0;34m(\u001b[0m\u001b[0mscore\u001b[0m\u001b[0;34m)\u001b[0m\u001b[0;34m\u001b[0m\u001b[0;34m\u001b[0m\u001b[0m\n\u001b[0m\u001b[1;32m     16\u001b[0m \u001b[0mprint\u001b[0m\u001b[0;34m(\u001b[0m\u001b[0mridge_scores\u001b[0m\u001b[0;34m)\u001b[0m\u001b[0;34m\u001b[0m\u001b[0;34m\u001b[0m\u001b[0m\n",
      "\u001b[0;31mNameError\u001b[0m: name 'score' is not defined"
     ]
    }
   ],
   "source": [
    "# Run a Ridge regression \n",
    "\n",
    "#Needed:\n",
    "    #X_train, y_train,\n",
    "    #X_test, y_test,\n",
    "from sklearn.linear_model import Ridge\n",
    "scores = []\n",
    "for alpha in [0.1, 1.0, 10.0, 100.0, 1000.0]:\n",
    "    ridge = Ridge(alpha=alpha)\n",
    "    ridge.fit(X_train, y_train)\n",
    "    #Do I need to predict on test data??\n",
    "    #y_pred = ridge.predict(X_test)\n",
    "    scores = ridge.score(X_test, y_test)\n",
    "    ridge_scores.append(score)\n",
    "print(ridge_scores)"
   ]
  },
  {
   "cell_type": "code",
   "execution_count": 145,
   "metadata": {},
   "outputs": [
    {
     "name": "stdout",
     "output_type": "stream",
     "text": [
      "<class 'pandas.core.strings.StringMethods'>\n",
      "0    True\n",
      "1    True\n",
      "2    True\n",
      "3    True\n",
      "4    True\n",
      "Name: CO_chest_pain, dtype: bool\n"
     ]
    }
   ],
   "source": [
    "import pandas as pd\n",
    "import re\n",
    "As_ser = HFdata_df[\"CO\"]\n",
    "As_str = As_ser.astype(str).str\n",
    "print(type(As_str))\n",
    "As_lowerc = As_str.lower()\n",
    "\n",
    "#for keyword in column\n",
    "# Create a new column called \"CO_chest_pain\" to store the search results\n",
    "\n",
    "#HFdata_df['CO_chest_pain'] = re.findall(r'\\b\\w*[^\\w\\s]\\w*\\s?chest\\s?pain\\w*[^\\w\\s]\\w*\\b', As_lowerc)\n",
    "\n",
    "HFdata_df['CO_chest_pain'] = As_lowerc.str.contains(r'\\w*\\s?chest\\s?pain\\w*', regex=True)\n",
    "\n",
    "print(HFdata_df['CO_chest_pain'].head())\n",
    "# Filter the DataFrame to show only the rows where \"Chest Pain\" is found in the \"CO\" column\n",
    "#filtered_data = data[data['CO_contains_chest_pain']]\n"
   ]
  },
  {
   "cell_type": "code",
   "execution_count": null,
   "metadata": {},
   "outputs": [],
   "source": []
  }
 ],
 "metadata": {
  "kernelspec": {
   "display_name": "Python 3",
   "language": "python",
   "name": "python3"
  },
  "language_info": {
   "codemirror_mode": {
    "name": "ipython",
    "version": 3
   },
   "file_extension": ".py",
   "mimetype": "text/x-python",
   "name": "python",
   "nbconvert_exporter": "python",
   "pygments_lexer": "ipython3",
   "version": "3.8.5"
  }
 },
 "nbformat": 4,
 "nbformat_minor": 4
}
