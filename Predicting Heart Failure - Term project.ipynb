{
 "cells": [
  {
   "cell_type": "markdown",
   "metadata": {},
   "source": [
    "# Predicting Heart failure"
   ]
  },
  {
   "cell_type": "markdown",
   "metadata": {},
   "source": [
    "## The dataset"
   ]
  },
  {
   "cell_type": "markdown",
   "metadata": {},
   "source": [
    "The dataset used in this projects was published to Kaggle by ... in 2020? and contains hospital data from xxx patients admitted to the xxx Hospital in Pakistan between XXX and XXX with cardiac symptoms."
   ]
  },
  {
   "cell_type": "code",
   "execution_count": 1,
   "metadata": {},
   "outputs": [],
   "source": [
    "#Import libraries\n",
    "import numpy as np\n",
    "import pandas as pd\n",
    "import matplotlib.pyplot as plt\n",
    "import seaborn as sns\n"
   ]
  },
  {
   "cell_type": "markdown",
   "metadata": {},
   "source": [
    "Import data as .csv file"
   ]
  },
  {
   "cell_type": "code",
   "execution_count": 2,
   "metadata": {},
   "outputs": [],
   "source": [
    "#Dataset imported from: https://www.kaggle.com/datasets/asgharalikhan/mortality-rate-heart-patient-pakistan-hospital\n",
    "\n",
    "HF_Dataset = 'HFDataset.csv'\n",
    "HFdf_full = pd.read_csv(HF_Dataset, header=0)"
   ]
  },
  {
   "cell_type": "markdown",
   "metadata": {},
   "source": [
    "For the purpose of this project, I have used a dataset downloaded from Kaggle as a .csv file to the Jupyter directory and uploaded to the local environement. Had I used a dataset from a different source, I could have used the source API to pull the dataset directly. As this is not the case here, I have included an unrelated example to showcase how I would go about accessing data using an API. I have pulled an interesting dataset using the Smart Dublin API: Fire and Ambulance Annual Incident Activity Log published by data.gov.ie\n",
    "\n",
    "\n",
    "Initially used urllib library to download the file via the Smart Dublin API, however I discovered that this throws an error as Anaconda has replaced 'urllib' with 'requests'. I have imported the 'requests' library instead."
   ]
  },
  {
   "cell_type": "code",
   "execution_count": 3,
   "metadata": {},
   "outputs": [
    {
     "name": "stdout",
     "output_type": "stream",
     "text": [
      "   _id                 Date  Station Area   Description       TOC       ORD  \\\n",
      "0    1  2013-01-01T00:00:00   Rathfarnham     S/S OTHER  01:27:19  01:28:58   \n",
      "1    2  2013-01-01T00:00:00      Tallaght      Fire CAR  01:49:57  01:50:40   \n",
      "2    3  2013-01-01T00:00:00  North Strand       S/S RTA  03:35:24  03:36:14   \n",
      "3    4  2013-01-01T00:00:00      Tallaght      Fire CAR  04:12:51  04:13:56   \n",
      "4    5  2013-01-01T00:00:00       Finglas  Fire DOM PER  04:14:24  04:15:36   \n",
      "\n",
      "        MOB        IA LS AH       MAV        CD  \n",
      "0  01:30:47  01:58:54        01:59:02  02:05:05  \n",
      "1  01:51:47  01:55:43        02:03:22  02:12:03  \n",
      "2  03:38:28  03:41:20        03:59:44  04:21:07  \n",
      "3  04:14:32  04:20:48        04:34:39  04:37:02  \n",
      "4  04:17:37  04:20:47        04:27:30  04:33:51  \n"
     ]
    }
   ],
   "source": [
    "import requests\n",
    "import pandas as pd\n",
    "\n",
    "#define dataset url and \n",
    "url = \"https://data.smartdublin.ie/api/3/action/datastore_search\"\n",
    "resource_id = \"b9281d81-ccde-4c1e-b8db-b2b9f7e6eea8\"\n",
    "limit = 5\n",
    "\n",
    "#Send get request, storing downloaded dataset as variable 'response'\n",
    "response = requests.get(url, params={\"resource_id\": resource_id, \"limit\": limit})\n",
    "\n",
    "#Extract 'results' and 'records' from the received .json file\n",
    "data = response.json()\n",
    "records = data[\"result\"][\"records\"]\n",
    "\n",
    "#Convert the resulting list into DataFrame for further analysis.\n",
    "df2= pd.DataFrame(records)\n",
    "print(df2.head())"
   ]
  },
  {
   "cell_type": "markdown",
   "metadata": {},
   "source": [
    "## Preliminary data analysis"
   ]
  },
  {
   "cell_type": "code",
   "execution_count": 4,
   "metadata": {},
   "outputs": [
    {
     "name": "stdout",
     "output_type": "stream",
     "text": [
      "   Age Age.Group  Gender Locality Marital status Life.Style Sleep Category  \\\n",
      "0   45     41-50  Female    RURAL        MARRIED         NO    NO     FREE   \n",
      "1   51     51-60  Female    URBAN        MARRIED         NO    NO     FREE   \n",
      "2   55     51-60  Female    RURAL        MARRIED        YES   YES     FREE   \n",
      "3   55     51-60  Female    RURAL        MARRIED        YES   YES     FREE   \n",
      "4   56     51-60  Female    RURAL        MARRIED        YES    NO     FREE   \n",
      "\n",
      "  Depression Hyperlipi  ... oldpeak slope  ca  thal num SK  SK.React  \\\n",
      "0        YES       YES  ...     3.0     2   0     7   2  1        NO   \n",
      "1        YES       YES  ...     1.2     2   0     7   2  1        NO   \n",
      "2        YES       YES  ...     3.4     2   0     3   2  1        NO   \n",
      "3        YES       YES  ...     2.0     2   1     7   3  1        NO   \n",
      "4        YES       YES  ...     4.0     3   2     7   3  1        NO   \n",
      "\n",
      "   Reaction  Mortality  Follow.Up  \n",
      "0         0          0         60  \n",
      "1         0          0         15  \n",
      "2         0          0          6  \n",
      "3         0          0         52  \n",
      "4         0          0         34  \n",
      "\n",
      "[5 rows x 60 columns]\n"
     ]
    }
   ],
   "source": [
    "#Use .head() method on our dataframe to take an exploratory look at what data in holds. \n",
    "print(HFdf_full.head())"
   ]
  },
  {
   "cell_type": "code",
   "execution_count": 5,
   "metadata": {},
   "outputs": [
    {
     "name": "stdout",
     "output_type": "stream",
     "text": [
      "<class 'pandas.core.frame.DataFrame'>\n",
      "RangeIndex: 368 entries, 0 to 367\n",
      "Data columns (total 60 columns):\n",
      " #   Column            Non-Null Count  Dtype  \n",
      "---  ------            --------------  -----  \n",
      " 0   Age               368 non-null    int64  \n",
      " 1   Age.Group         368 non-null    object \n",
      " 2   Gender            368 non-null    object \n",
      " 3   Locality          368 non-null    object \n",
      " 4   Marital status    368 non-null    object \n",
      " 5   Life.Style        368 non-null    object \n",
      " 6   Sleep             368 non-null    object \n",
      " 7   Category          368 non-null    object \n",
      " 8   Depression        368 non-null    object \n",
      " 9   Hyperlipi         368 non-null    object \n",
      " 10  Smoking           368 non-null    object \n",
      " 11  Family.History    368 non-null    object \n",
      " 12  F.History         368 non-null    int64  \n",
      " 13  Diabetes          368 non-null    int64  \n",
      " 14  HTN               368 non-null    object \n",
      " 15  Allergies         368 non-null    object \n",
      " 16  BP                368 non-null    float64\n",
      " 17  Thrombolysis      368 non-null    int64  \n",
      " 18  BGR               368 non-null    int64  \n",
      " 19  B.Urea            368 non-null    float64\n",
      " 20  S.Cr              368 non-null    float64\n",
      " 21  S.Sodium          368 non-null    int64  \n",
      " 22  S.Potassium       368 non-null    float64\n",
      " 23  S.Chloride        368 non-null    int64  \n",
      " 24  C.P.K             368 non-null    int64  \n",
      " 25  CK.MB             368 non-null    int64  \n",
      " 26  ESR               368 non-null    int64  \n",
      " 27  WBC               368 non-null    int64  \n",
      " 28  RBC               368 non-null    float64\n",
      " 29  Hemoglobin        368 non-null    float64\n",
      " 30  P.C.V             368 non-null    float64\n",
      " 31  M.C.V             368 non-null    float64\n",
      " 32  M.C.H             368 non-null    float64\n",
      " 33  M.C.H.C           368 non-null    float64\n",
      " 34  PLATELET_COUNT    368 non-null    int64  \n",
      " 35  NEUTROPHIL        368 non-null    float64\n",
      " 36  LYMPHO            368 non-null    float64\n",
      " 37  MONOCYTE          368 non-null    float64\n",
      " 38  EOSINO            368 non-null    int64  \n",
      " 39  Others            368 non-null    object \n",
      " 40  CO                368 non-null    object \n",
      " 41  Diagnosis         368 non-null    object \n",
      " 42  Hypersensitivity  368 non-null    object \n",
      " 43  cp                368 non-null    int64  \n",
      " 44  trestbps          368 non-null    int64  \n",
      " 45  chol              368 non-null    int64  \n",
      " 46  fbs               368 non-null    int64  \n",
      " 47  restecg           368 non-null    int64  \n",
      " 48  thalach           368 non-null    int64  \n",
      " 49  exang             368 non-null    int64  \n",
      " 50  oldpeak           368 non-null    float64\n",
      " 51  slope             368 non-null    int64  \n",
      " 52  ca                368 non-null    int64  \n",
      " 53  thal              368 non-null    int64  \n",
      " 54  num               368 non-null    int64  \n",
      " 55  SK                368 non-null    int64  \n",
      " 56  SK.React          368 non-null    object \n",
      " 57  Reaction          368 non-null    int64  \n",
      " 58  Mortality         368 non-null    int64  \n",
      " 59  Follow.Up         368 non-null    int64  \n",
      "dtypes: float64(14), int64(28), object(18)\n",
      "memory usage: 172.6+ KB\n",
      "None\n"
     ]
    }
   ],
   "source": [
    "#Use .info() method to get information on the type of data in the dataframe\n",
    "print(HFdf_full.info())"
   ]
  },
  {
   "cell_type": "markdown",
   "metadata": {},
   "source": [
    "## Clean the Data"
   ]
  },
  {
   "cell_type": "markdown",
   "metadata": {},
   "source": [
    "Not all columns are in this dataset are intuitive as to what their contained data represents. Without additional information on the dataset these columns do not provide any useful information and are dropped from further use."
   ]
  },
  {
   "cell_type": "code",
   "execution_count": 6,
   "metadata": {},
   "outputs": [],
   "source": [
    "# Drop 9 columns labled: \"exang\", \"oldpeak\", \"slope\", \"ca\", \"thal\", \"num\", \"SK\", \"SK.React\", and \"Reaction\" \n",
    "HFdf = HFdf_full.drop(columns = [\"Life.Style\", \"Sleep\", \"Family.History\", \"Hypersensitivity\", \"exang\", \"oldpeak\", \"slope\", \"ca\", \"thal\", \"num\", \"SK\", \"SK.React\", \"Reaction\"])"
   ]
  },
  {
   "cell_type": "code",
   "execution_count": 7,
   "metadata": {},
   "outputs": [
    {
     "data": {
      "text/html": [
       "<div>\n",
       "<style scoped>\n",
       "    .dataframe tbody tr th:only-of-type {\n",
       "        vertical-align: middle;\n",
       "    }\n",
       "\n",
       "    .dataframe tbody tr th {\n",
       "        vertical-align: top;\n",
       "    }\n",
       "\n",
       "    .dataframe thead th {\n",
       "        text-align: right;\n",
       "    }\n",
       "</style>\n",
       "<table border=\"1\" class=\"dataframe\">\n",
       "  <thead>\n",
       "    <tr style=\"text-align: right;\">\n",
       "      <th></th>\n",
       "      <th>Age</th>\n",
       "      <th>Age.Group</th>\n",
       "      <th>Gender</th>\n",
       "      <th>Locality</th>\n",
       "      <th>Marital status</th>\n",
       "      <th>Category</th>\n",
       "      <th>Depression</th>\n",
       "      <th>Hyperlipi</th>\n",
       "      <th>Smoking</th>\n",
       "      <th>F.History</th>\n",
       "      <th>...</th>\n",
       "      <th>CO</th>\n",
       "      <th>Diagnosis</th>\n",
       "      <th>cp</th>\n",
       "      <th>trestbps</th>\n",
       "      <th>chol</th>\n",
       "      <th>fbs</th>\n",
       "      <th>restecg</th>\n",
       "      <th>thalach</th>\n",
       "      <th>Mortality</th>\n",
       "      <th>Follow.Up</th>\n",
       "    </tr>\n",
       "  </thead>\n",
       "  <tbody>\n",
       "    <tr>\n",
       "      <th>0</th>\n",
       "      <td>False</td>\n",
       "      <td>False</td>\n",
       "      <td>False</td>\n",
       "      <td>False</td>\n",
       "      <td>False</td>\n",
       "      <td>False</td>\n",
       "      <td>False</td>\n",
       "      <td>False</td>\n",
       "      <td>False</td>\n",
       "      <td>False</td>\n",
       "      <td>...</td>\n",
       "      <td>False</td>\n",
       "      <td>False</td>\n",
       "      <td>False</td>\n",
       "      <td>False</td>\n",
       "      <td>False</td>\n",
       "      <td>False</td>\n",
       "      <td>False</td>\n",
       "      <td>False</td>\n",
       "      <td>False</td>\n",
       "      <td>False</td>\n",
       "    </tr>\n",
       "    <tr>\n",
       "      <th>1</th>\n",
       "      <td>False</td>\n",
       "      <td>False</td>\n",
       "      <td>False</td>\n",
       "      <td>False</td>\n",
       "      <td>False</td>\n",
       "      <td>False</td>\n",
       "      <td>False</td>\n",
       "      <td>False</td>\n",
       "      <td>False</td>\n",
       "      <td>False</td>\n",
       "      <td>...</td>\n",
       "      <td>False</td>\n",
       "      <td>False</td>\n",
       "      <td>False</td>\n",
       "      <td>False</td>\n",
       "      <td>False</td>\n",
       "      <td>False</td>\n",
       "      <td>False</td>\n",
       "      <td>False</td>\n",
       "      <td>False</td>\n",
       "      <td>False</td>\n",
       "    </tr>\n",
       "    <tr>\n",
       "      <th>2</th>\n",
       "      <td>False</td>\n",
       "      <td>False</td>\n",
       "      <td>False</td>\n",
       "      <td>False</td>\n",
       "      <td>False</td>\n",
       "      <td>False</td>\n",
       "      <td>False</td>\n",
       "      <td>False</td>\n",
       "      <td>False</td>\n",
       "      <td>False</td>\n",
       "      <td>...</td>\n",
       "      <td>False</td>\n",
       "      <td>False</td>\n",
       "      <td>False</td>\n",
       "      <td>False</td>\n",
       "      <td>False</td>\n",
       "      <td>False</td>\n",
       "      <td>False</td>\n",
       "      <td>False</td>\n",
       "      <td>False</td>\n",
       "      <td>False</td>\n",
       "    </tr>\n",
       "    <tr>\n",
       "      <th>3</th>\n",
       "      <td>False</td>\n",
       "      <td>False</td>\n",
       "      <td>False</td>\n",
       "      <td>False</td>\n",
       "      <td>False</td>\n",
       "      <td>False</td>\n",
       "      <td>False</td>\n",
       "      <td>False</td>\n",
       "      <td>False</td>\n",
       "      <td>False</td>\n",
       "      <td>...</td>\n",
       "      <td>False</td>\n",
       "      <td>False</td>\n",
       "      <td>False</td>\n",
       "      <td>False</td>\n",
       "      <td>False</td>\n",
       "      <td>False</td>\n",
       "      <td>False</td>\n",
       "      <td>False</td>\n",
       "      <td>False</td>\n",
       "      <td>False</td>\n",
       "    </tr>\n",
       "    <tr>\n",
       "      <th>4</th>\n",
       "      <td>False</td>\n",
       "      <td>False</td>\n",
       "      <td>False</td>\n",
       "      <td>False</td>\n",
       "      <td>False</td>\n",
       "      <td>False</td>\n",
       "      <td>False</td>\n",
       "      <td>False</td>\n",
       "      <td>False</td>\n",
       "      <td>False</td>\n",
       "      <td>...</td>\n",
       "      <td>False</td>\n",
       "      <td>False</td>\n",
       "      <td>False</td>\n",
       "      <td>False</td>\n",
       "      <td>False</td>\n",
       "      <td>False</td>\n",
       "      <td>False</td>\n",
       "      <td>False</td>\n",
       "      <td>False</td>\n",
       "      <td>False</td>\n",
       "    </tr>\n",
       "    <tr>\n",
       "      <th>...</th>\n",
       "      <td>...</td>\n",
       "      <td>...</td>\n",
       "      <td>...</td>\n",
       "      <td>...</td>\n",
       "      <td>...</td>\n",
       "      <td>...</td>\n",
       "      <td>...</td>\n",
       "      <td>...</td>\n",
       "      <td>...</td>\n",
       "      <td>...</td>\n",
       "      <td>...</td>\n",
       "      <td>...</td>\n",
       "      <td>...</td>\n",
       "      <td>...</td>\n",
       "      <td>...</td>\n",
       "      <td>...</td>\n",
       "      <td>...</td>\n",
       "      <td>...</td>\n",
       "      <td>...</td>\n",
       "      <td>...</td>\n",
       "      <td>...</td>\n",
       "    </tr>\n",
       "    <tr>\n",
       "      <th>363</th>\n",
       "      <td>False</td>\n",
       "      <td>False</td>\n",
       "      <td>False</td>\n",
       "      <td>False</td>\n",
       "      <td>False</td>\n",
       "      <td>False</td>\n",
       "      <td>False</td>\n",
       "      <td>False</td>\n",
       "      <td>False</td>\n",
       "      <td>False</td>\n",
       "      <td>...</td>\n",
       "      <td>False</td>\n",
       "      <td>False</td>\n",
       "      <td>False</td>\n",
       "      <td>False</td>\n",
       "      <td>False</td>\n",
       "      <td>False</td>\n",
       "      <td>False</td>\n",
       "      <td>False</td>\n",
       "      <td>False</td>\n",
       "      <td>False</td>\n",
       "    </tr>\n",
       "    <tr>\n",
       "      <th>364</th>\n",
       "      <td>False</td>\n",
       "      <td>False</td>\n",
       "      <td>False</td>\n",
       "      <td>False</td>\n",
       "      <td>False</td>\n",
       "      <td>False</td>\n",
       "      <td>False</td>\n",
       "      <td>False</td>\n",
       "      <td>False</td>\n",
       "      <td>False</td>\n",
       "      <td>...</td>\n",
       "      <td>False</td>\n",
       "      <td>False</td>\n",
       "      <td>False</td>\n",
       "      <td>False</td>\n",
       "      <td>False</td>\n",
       "      <td>False</td>\n",
       "      <td>False</td>\n",
       "      <td>False</td>\n",
       "      <td>False</td>\n",
       "      <td>False</td>\n",
       "    </tr>\n",
       "    <tr>\n",
       "      <th>365</th>\n",
       "      <td>False</td>\n",
       "      <td>False</td>\n",
       "      <td>False</td>\n",
       "      <td>False</td>\n",
       "      <td>False</td>\n",
       "      <td>False</td>\n",
       "      <td>False</td>\n",
       "      <td>False</td>\n",
       "      <td>False</td>\n",
       "      <td>False</td>\n",
       "      <td>...</td>\n",
       "      <td>False</td>\n",
       "      <td>False</td>\n",
       "      <td>False</td>\n",
       "      <td>False</td>\n",
       "      <td>False</td>\n",
       "      <td>False</td>\n",
       "      <td>False</td>\n",
       "      <td>False</td>\n",
       "      <td>False</td>\n",
       "      <td>False</td>\n",
       "    </tr>\n",
       "    <tr>\n",
       "      <th>366</th>\n",
       "      <td>False</td>\n",
       "      <td>False</td>\n",
       "      <td>False</td>\n",
       "      <td>False</td>\n",
       "      <td>False</td>\n",
       "      <td>False</td>\n",
       "      <td>False</td>\n",
       "      <td>False</td>\n",
       "      <td>False</td>\n",
       "      <td>False</td>\n",
       "      <td>...</td>\n",
       "      <td>False</td>\n",
       "      <td>False</td>\n",
       "      <td>False</td>\n",
       "      <td>False</td>\n",
       "      <td>False</td>\n",
       "      <td>False</td>\n",
       "      <td>False</td>\n",
       "      <td>False</td>\n",
       "      <td>False</td>\n",
       "      <td>False</td>\n",
       "    </tr>\n",
       "    <tr>\n",
       "      <th>367</th>\n",
       "      <td>False</td>\n",
       "      <td>False</td>\n",
       "      <td>False</td>\n",
       "      <td>False</td>\n",
       "      <td>False</td>\n",
       "      <td>False</td>\n",
       "      <td>False</td>\n",
       "      <td>False</td>\n",
       "      <td>False</td>\n",
       "      <td>False</td>\n",
       "      <td>...</td>\n",
       "      <td>False</td>\n",
       "      <td>False</td>\n",
       "      <td>False</td>\n",
       "      <td>False</td>\n",
       "      <td>False</td>\n",
       "      <td>False</td>\n",
       "      <td>False</td>\n",
       "      <td>False</td>\n",
       "      <td>False</td>\n",
       "      <td>False</td>\n",
       "    </tr>\n",
       "  </tbody>\n",
       "</table>\n",
       "<p>368 rows × 47 columns</p>\n",
       "</div>"
      ],
      "text/plain": [
       "       Age  Age.Group  Gender  Locality  Marital status  Category  Depression  \\\n",
       "0    False      False   False     False           False     False       False   \n",
       "1    False      False   False     False           False     False       False   \n",
       "2    False      False   False     False           False     False       False   \n",
       "3    False      False   False     False           False     False       False   \n",
       "4    False      False   False     False           False     False       False   \n",
       "..     ...        ...     ...       ...             ...       ...         ...   \n",
       "363  False      False   False     False           False     False       False   \n",
       "364  False      False   False     False           False     False       False   \n",
       "365  False      False   False     False           False     False       False   \n",
       "366  False      False   False     False           False     False       False   \n",
       "367  False      False   False     False           False     False       False   \n",
       "\n",
       "     Hyperlipi  Smoking  F.History  ...     CO  Diagnosis     cp  trestbps  \\\n",
       "0        False    False      False  ...  False      False  False     False   \n",
       "1        False    False      False  ...  False      False  False     False   \n",
       "2        False    False      False  ...  False      False  False     False   \n",
       "3        False    False      False  ...  False      False  False     False   \n",
       "4        False    False      False  ...  False      False  False     False   \n",
       "..         ...      ...        ...  ...    ...        ...    ...       ...   \n",
       "363      False    False      False  ...  False      False  False     False   \n",
       "364      False    False      False  ...  False      False  False     False   \n",
       "365      False    False      False  ...  False      False  False     False   \n",
       "366      False    False      False  ...  False      False  False     False   \n",
       "367      False    False      False  ...  False      False  False     False   \n",
       "\n",
       "      chol    fbs  restecg  thalach  Mortality  Follow.Up  \n",
       "0    False  False    False    False      False      False  \n",
       "1    False  False    False    False      False      False  \n",
       "2    False  False    False    False      False      False  \n",
       "3    False  False    False    False      False      False  \n",
       "4    False  False    False    False      False      False  \n",
       "..     ...    ...      ...      ...        ...        ...  \n",
       "363  False  False    False    False      False      False  \n",
       "364  False  False    False    False      False      False  \n",
       "365  False  False    False    False      False      False  \n",
       "366  False  False    False    False      False      False  \n",
       "367  False  False    False    False      False      False  \n",
       "\n",
       "[368 rows x 47 columns]"
      ]
     },
     "execution_count": 7,
     "metadata": {},
     "output_type": "execute_result"
    }
   ],
   "source": [
    "#Check for missing values\n",
    "HFdf.isna()"
   ]
  },
  {
   "cell_type": "code",
   "execution_count": 8,
   "metadata": {},
   "outputs": [
    {
     "data": {
      "text/plain": [
       "Age               0\n",
       "Age.Group         0\n",
       "Gender            0\n",
       "Locality          0\n",
       "Marital status    0\n",
       "Category          0\n",
       "Depression        0\n",
       "Hyperlipi         0\n",
       "Smoking           0\n",
       "F.History         0\n",
       "Diabetes          0\n",
       "HTN               0\n",
       "Allergies         0\n",
       "BP                0\n",
       "Thrombolysis      0\n",
       "BGR               0\n",
       "B.Urea            0\n",
       "S.Cr              0\n",
       "S.Sodium          0\n",
       "S.Potassium       0\n",
       "S.Chloride        0\n",
       "C.P.K             0\n",
       "CK.MB             0\n",
       "ESR               0\n",
       "WBC               0\n",
       "RBC               0\n",
       "Hemoglobin        0\n",
       "P.C.V             0\n",
       "M.C.V             0\n",
       "M.C.H             0\n",
       "M.C.H.C           0\n",
       "PLATELET_COUNT    0\n",
       "NEUTROPHIL        0\n",
       "LYMPHO            0\n",
       "MONOCYTE          0\n",
       "EOSINO            0\n",
       "Others            0\n",
       "CO                0\n",
       "Diagnosis         0\n",
       "cp                0\n",
       "trestbps          0\n",
       "chol              0\n",
       "fbs               0\n",
       "restecg           0\n",
       "thalach           0\n",
       "Mortality         0\n",
       "Follow.Up         0\n",
       "dtype: int64"
      ]
     },
     "execution_count": 8,
     "metadata": {},
     "output_type": "execute_result"
    }
   ],
   "source": [
    "#Count number of missing data points\n",
    "HFdf.isna().sum()"
   ]
  },
  {
   "cell_type": "code",
   "execution_count": 9,
   "metadata": {},
   "outputs": [
    {
     "data": {
      "text/plain": [
       "Age               0\n",
       "Age.Group         0\n",
       "Gender            0\n",
       "Locality          0\n",
       "Marital status    0\n",
       "Category          0\n",
       "Depression        0\n",
       "Hyperlipi         0\n",
       "Smoking           0\n",
       "F.History         0\n",
       "Diabetes          0\n",
       "HTN               0\n",
       "Allergies         0\n",
       "BP                0\n",
       "Thrombolysis      0\n",
       "BGR               0\n",
       "B.Urea            0\n",
       "S.Cr              0\n",
       "S.Sodium          0\n",
       "S.Potassium       0\n",
       "S.Chloride        0\n",
       "C.P.K             0\n",
       "CK.MB             0\n",
       "ESR               0\n",
       "WBC               0\n",
       "RBC               0\n",
       "Hemoglobin        0\n",
       "P.C.V             0\n",
       "M.C.V             0\n",
       "M.C.H             0\n",
       "M.C.H.C           0\n",
       "PLATELET_COUNT    0\n",
       "NEUTROPHIL        0\n",
       "LYMPHO            0\n",
       "MONOCYTE          0\n",
       "EOSINO            0\n",
       "Others            0\n",
       "CO                0\n",
       "Diagnosis         0\n",
       "cp                0\n",
       "trestbps          0\n",
       "chol              0\n",
       "fbs               0\n",
       "restecg           0\n",
       "thalach           0\n",
       "Mortality         0\n",
       "Follow.Up         0\n",
       "dtype: int64"
      ]
     },
     "execution_count": 9,
     "metadata": {},
     "output_type": "execute_result"
    }
   ],
   "source": [
    "HFdf.isnull().sum()"
   ]
  },
  {
   "cell_type": "code",
   "execution_count": 10,
   "metadata": {},
   "outputs": [],
   "source": [
    "#Missing data points can be visualized in a matrix using the missingno package\n",
    "import missingno as msno\n",
    "import matplotlib.pyplot as plt\n",
    "#msno.matrix(HFdf)\n",
    "#plt.show"
   ]
  },
  {
   "cell_type": "markdown",
   "metadata": {},
   "source": [
    "In an interesting quirk, the values in the \"Diabetes\" column are represented by integer 1 and 0 values, however these are inverted and non-intuitive (1 = absence of diabetes, 0 = diabetes diagnosis present). This can be confirmed in the dataset by calculating the mean blood sugar for all patients in the dataset grouped by whether they are identified as having diabetes."
   ]
  },
  {
   "cell_type": "code",
   "execution_count": 11,
   "metadata": {
    "scrolled": true
   },
   "outputs": [
    {
     "name": "stdout",
     "output_type": "stream",
     "text": [
      "Diabetes\n",
      "0    250.868687\n",
      "1    184.029412\n",
      "Name: BGR, dtype: float64\n"
     ]
    }
   ],
   "source": [
    "#Sanity check on the Diabetes column\n",
    "groupedDM = HFdf.groupby('Diabetes')['BGR'].mean()\n",
    "print(groupedDM.head())"
   ]
  },
  {
   "cell_type": "markdown",
   "metadata": {},
   "source": [
    "The mean blood sugar is infact higher in the group denoted by \"0\" in the Diabetes column, which would confirm the suspicion that values are counterintuitive. They need to be flipped so as to make sense in future data analysis."
   ]
  },
  {
   "cell_type": "code",
   "execution_count": 12,
   "metadata": {},
   "outputs": [
    {
     "name": "stdout",
     "output_type": "stream",
     "text": [
      "0    0\n",
      "1    1\n",
      "2    0\n",
      "3    0\n",
      "4    0\n",
      "Name: Diabetes, dtype: int64\n"
     ]
    }
   ],
   "source": [
    "#Simple for loop with lambda function to flip the values in the Diabetes column\n",
    "\n",
    "for value in HFdf[\"Diabetes\"]:\n",
    "    HFdf[\"Diabetes\"] = HFdf[\"Diabetes\"].apply(lambda x: 1 if x == 0 else 0)\n",
    "    print(HFdf[\"Diabetes\"].head())\n",
    "    #I added a break statement to exit the loop, otherwise it repeats on itself\n",
    "    break"
   ]
  },
  {
   "cell_type": "code",
   "execution_count": 13,
   "metadata": {},
   "outputs": [],
   "source": [
    "#---------------------------------------_TODO--------------------------\n",
    "#----------------------------------------------------------------------\n",
    "#Check for duplicates\n",
    "\n",
    "#use WBC and BGR to filter for duplicate plts"
   ]
  },
  {
   "cell_type": "markdown",
   "metadata": {},
   "source": [
    "The dataset is parsed into groups according to relevance and saved. This will promote ease of use down the line."
   ]
  },
  {
   "cell_type": "code",
   "execution_count": 14,
   "metadata": {},
   "outputs": [],
   "source": [
    "# As an alternative I can use a .groupby() method, however this would involve much more writing to pass /\n",
    "# it as argument each individual column name, and would increase the possibility of errors.\n",
    "\n",
    "#Extracted column titles as a list\n",
    "titles = HFdf.columns.tolist()"
   ]
  },
  {
   "cell_type": "code",
   "execution_count": 15,
   "metadata": {},
   "outputs": [
    {
     "name": "stdout",
     "output_type": "stream",
     "text": [
      "0: Age\n",
      "1: Age.Group\n",
      "2: Gender\n",
      "3: Locality\n",
      "4: Marital status\n",
      "5: Category\n",
      "6: Depression\n",
      "7: Hyperlipi\n",
      "8: Smoking\n",
      "9: F.History\n",
      "10: Diabetes\n",
      "11: HTN\n",
      "12: Allergies\n",
      "13: BP\n",
      "14: Thrombolysis\n",
      "15: BGR\n",
      "16: B.Urea\n",
      "17: S.Cr\n",
      "18: S.Sodium\n",
      "19: S.Potassium\n",
      "20: S.Chloride\n",
      "21: C.P.K\n",
      "22: CK.MB\n",
      "23: ESR\n",
      "24: WBC\n",
      "25: RBC\n",
      "26: Hemoglobin\n",
      "27: P.C.V\n",
      "28: M.C.V\n",
      "29: M.C.H\n",
      "30: M.C.H.C\n",
      "31: PLATELET_COUNT\n",
      "32: NEUTROPHIL\n",
      "33: LYMPHO\n",
      "34: MONOCYTE\n",
      "35: EOSINO\n",
      "36: Others\n",
      "37: CO\n",
      "38: Diagnosis\n",
      "39: cp\n",
      "40: trestbps\n",
      "41: chol\n",
      "42: fbs\n",
      "43: restecg\n",
      "44: thalach\n",
      "45: Mortality\n",
      "46: Follow.Up\n"
     ]
    }
   ],
   "source": [
    "#For ease-of use and referrence in the next I printed the index value associated with each column title\n",
    "for index, item in enumerate(titles):\n",
    "    print(f\"{index}: {item}\")"
   ]
  },
  {
   "cell_type": "code",
   "execution_count": 16,
   "metadata": {},
   "outputs": [],
   "source": [
    "#Dataframe containing demographics data\n",
    "df_demog = HFdf.iloc[:, :6]\n",
    "\n",
    "#Dataframe containing relevant past medical history data\n",
    "df_pmhx = HFdf.iloc[:, 6:13]\n",
    "\n",
    "#Dataframe containing laboratory results for blood work other than standard CBC\n",
    "df_bloods_chem = HFdf.iloc[:, 15:24]\n",
    "\n",
    "#Dataframe containing laboratory results for standard CBC blood work\n",
    "df_bloods_cbc = HFdf.iloc[:, 24:36]\n",
    "\n",
    "#Dataframe containing admissions symptom data\n",
    "df_sxoa = HFdf.iloc[:, 38:45].join(HFdf.iloc[:, 13:15])\n",
    "\n",
    "#Dataframe containing outcome data\n",
    "df_outcome = HFdf.iloc[:, -2:]"
   ]
  },
  {
   "cell_type": "markdown",
   "metadata": {},
   "source": [
    "Now that the dataframe is split into manageable related section, some data types need to be standardized. Some parameters are represented as a non-boolean discrete yes/no series, while others are integers. \n"
   ]
  },
  {
   "cell_type": "code",
   "execution_count": 17,
   "metadata": {},
   "outputs": [],
   "source": [
    "#Custom function to change yes/no object types to integers\n",
    "\n",
    "def convert_to_int(original, to_convert):\n",
    "    \"\"\"Converts object type to integer over multiple columns \n",
    "    Args:\n",
    "        original: dataframe containing columns of type to be converted\n",
    "        to_convert: (list): list of columns over which the function is applied \n",
    "    \"\"\"\n",
    "    \n",
    "    dict = {\"YES\": 1, \"NO\": 0}\n",
    "\n",
    "    for column in to_convert:\n",
    "        original[column] = original[column].replace(dict)\n",
    "        print(original[column].head())"
   ]
  },
  {
   "cell_type": "code",
   "execution_count": 18,
   "metadata": {},
   "outputs": [
    {
     "name": "stdout",
     "output_type": "stream",
     "text": [
      "0    1\n",
      "1    1\n",
      "2    1\n",
      "3    1\n",
      "4    1\n",
      "Name: Depression, dtype: int64\n",
      "0    1\n",
      "1    1\n",
      "2    1\n",
      "3    1\n",
      "4    1\n",
      "Name: Hyperlipi, dtype: int64\n",
      "0    0\n",
      "1    0\n",
      "2    0\n",
      "3    0\n",
      "4    0\n",
      "Name: Smoking, dtype: int64\n",
      "0    0\n",
      "1    0\n",
      "2    1\n",
      "3    1\n",
      "4    1\n",
      "Name: HTN, dtype: int64\n",
      "0    0\n",
      "1    0\n",
      "2    0\n",
      "3    0\n",
      "4    0\n",
      "Name: Allergies, dtype: int64\n"
     ]
    }
   ],
   "source": [
    "#List of columns with inappropriate data types to be converted to boolean\n",
    "col_list_pmhx = [\"Depression\", \"Hyperlipi\", \"Smoking\", \"HTN\", \"Allergies\"]\n",
    "#col_list_sxoa = [\"Thrombolysis\"]\n",
    "\n",
    "#pass list along with data frame to custom function\n",
    "convert_to_int(df_pmhx, col_list_pmhx)\n",
    "#convert_to_int(df_sxoa, col_list_sxoa)"
   ]
  },
  {
   "cell_type": "markdown",
   "metadata": {},
   "source": [
    "## Interpretation of columns with unique string data"
   ]
  },
  {
   "cell_type": "markdown",
   "metadata": {},
   "source": [
    "Use ReGex to match string entries in columns containing data on symptoms present on admission (\"CO\") and established diagnosis (\"Diagnosis\")\n",
    "\n",
    "This can also be done by passing a list of desired keywords as argument to an .str.contains() function which would iterate over the target column, returning a boolean series which can be appended as a new column. \n",
    "\n",
    "In this example, strings in the column over which the method iterates are first made lowercase."
   ]
  },
  {
   "cell_type": "code",
   "execution_count": 19,
   "metadata": {},
   "outputs": [],
   "source": [
    "#---------------------------------------_TODO--------------------------\n",
    "#----------------------------------------------------------------------"
   ]
  },
  {
   "cell_type": "code",
   "execution_count": 20,
   "metadata": {},
   "outputs": [
    {
     "data": {
      "text/plain": [
       "False    368\n",
       "Name: CO, dtype: int64"
      ]
     },
     "execution_count": 20,
     "metadata": {},
     "output_type": "execute_result"
    }
   ],
   "source": [
    "df_lower = HFdf[\"CO\"].str.lower()\n",
    "Contains_CO = df_lower.str.contains(\"SWEATING\")\n",
    "Contains_CO.value_counts()"
   ]
  },
  {
   "cell_type": "code",
   "execution_count": 21,
   "metadata": {},
   "outputs": [],
   "source": [
    "#Can I make this a for loop?\n",
    "\n",
    "\n",
    "#Use df[].unique() to determine all unique answers to “other”, “CO”, “Diagnosis”,\n",
    "#Unique_other = HFdf[\"other\"].unique()\n",
    "Unique_CO = HFdf[\"CO\"].unique()\n",
    "Unique_Diagnosis = HFdf[\"Diagnosis\"].unique()\n"
   ]
  },
  {
   "cell_type": "code",
   "execution_count": 22,
   "metadata": {},
   "outputs": [
    {
     "name": "stdout",
     "output_type": "stream",
     "text": [
      "no                                  201\n",
      "HTN                                  53\n",
      "HTN, DM                              19\n",
      "PND, ORTHOPENIA                      16\n",
      "DM                                   10\n",
      "ACS                                  10\n",
      "IHD, SOB                             10\n",
      "IHD, HTN                              7\n",
      "LV dysfunction                        7\n",
      "ICMP WITH EF= 30%,PULMONAR ODEMA      6\n",
      "ORTHOPENIA, PND                       6\n",
      "HCV, IHD                              6\n",
      "CHB, RV INFARCT                       6\n",
      "SEIZARIAN, HYSTECTOMY.                5\n",
      "DM,M.I                                2\n",
      "IHD,DM                                2\n",
      "PULMONARY ODEMA                       2\n",
      "Name: Others, dtype: int64\n",
      "Chest pain,                                      84\n",
      "Chest pain, SWEATING                             23\n",
      "Chest pain,vomiting, sweating                    17\n",
      "Chest pain, VOMITING                             16\n",
      "SOB FROM 1 DAY                                   16\n",
      "CENTRAL Chest pain,                              12\n",
      "Chest pain, 2 HR                                 10\n",
      "Chest pain,nausea,vertigo,sweating,headache      10\n",
      "Chest pain,heart sinking, vomiting               10\n",
      "Chest pain 1 hr                                  10\n",
      "Chest pain,Sweating,                             10\n",
      "Chest pain,COLD SWEATING, VOMITING               10\n",
      "Chest pain,NAUSEA, SWELLOWING                    10\n",
      "Chest pain,SOB                                   10\n",
      "Central Chest pain,                               9\n",
      "Chest pain for 2 to 3 hr                          7\n",
      "Chest pain,COUGH                                  7\n",
      "Chest pain, VERTIGO,SWEATING                      7\n",
      "Chest pain,SWEATING, NAUSEA                       7\n",
      "Chest pain, TIGHTNESS                             7\n",
      "Chest pain,SOB, Cold sweating                     7\n",
      "Chest pain, 4 HR                                  6\n",
      "Central Chest pain,SOB, Sweating                  6\n",
      "Chest pain,sweating,vomiting                      6\n",
      "Chest pain,SOB, HEART SINKING , PALPITATION       6\n",
      "Chest pain4 HR, SWEATING                          6\n",
      "SOB, DIZZINESS, CHEST PAIN,NAUSEA,DIAPHORESIS     6\n",
      "Chest pain from 3 hr                              6\n",
      "Chest pain, Sweating, SOB                         5\n",
      "Chest pain,VOMITING.,SOB                          5\n",
      "Chest pain,COLD SWEATING,                         5\n",
      "Chest pain, SWEATING,VOMITING                     2\n",
      "Chest pain, SOB,                                  2\n",
      "Chest pain 6 HR                                   2\n",
      "Chest pain, COLD SWEATING                         2\n",
      "Chest pain,VOMITING. SWEATING                     2\n",
      "Chest pain, SOB,COLD SWEATING                     2\n",
      "Name: CO, dtype: int64\n",
      "AC I/W M.I                     44\n",
      "A/W M.I                        35\n",
      "Acute I/W M.I                  20\n",
      "I/W M.I                        20\n",
      "INF WALL M.I                   17\n",
      "ACS, NSTEMI                    16\n",
      "NSTEM.I                        12\n",
      "A/S WALL M.I                   11\n",
      "STEMI                          10\n",
      "M.I ,ACS                       10\n",
      "ACUTE I/W M.I                  10\n",
      "POSTERIOR WALL M.I             10\n",
      "A/C, A/W M.I                   10\n",
      "AC. WALL M.I                   10\n",
      "Ac I/P M.Iwith RV Infarct      10\n",
      "Inf. Wall M.I                  10\n",
      "A/L WALL M.I                    7\n",
      "AC I/W M.I (RV) RE. M.I         7\n",
      "A/CI/W M.I                      7\n",
      "Acute and Ant Wall MI, ACS.     7\n",
      "ST-T ELEVATION POST SK          7\n",
      "AC. I/W M.I                     7\n",
      "EXT. ACUTE WALL M.I             7\n",
      "ACS. ACUTE LEFT WALL M.I        7\n",
      "CARDIOGENIC SHOCK               6\n",
      "SEVERE MR, MVR                  6\n",
      "Ext. Ant wall M.I               6\n",
      "A LATERAL WALL M.I              6\n",
      "I/P M.I                         6\n",
      "old I/W M.I, ACS.               6\n",
      "A/S M.I                         5\n",
      "AC. A/L M.I                     4\n",
      "Inf wall M.I                    4\n",
      "Inf wall RE. M.I                2\n",
      "AC.LBBB                         2\n",
      "AC. I/W M.I, SHOCK              2\n",
      "AC. A/W M.I                     2\n",
      "Name: Diagnosis, dtype: int64\n"
     ]
    }
   ],
   "source": [
    "import numpy as np\n",
    "Col_unique_list = [\"Others\", \"CO\", \"Diagnosis\",]\n",
    "\n",
    "for name in Col_unique_list:\n",
    "    unique_content = HFdf[name].value_counts()\n",
    "    print(unique_content)"
   ]
  },
  {
   "cell_type": "code",
   "execution_count": 23,
   "metadata": {},
   "outputs": [
    {
     "ename": "SyntaxError",
     "evalue": "invalid syntax (<ipython-input-23-d6a9850555b0>, line 3)",
     "output_type": "error",
     "traceback": [
      "\u001b[0;36m  File \u001b[0;32m\"<ipython-input-23-d6a9850555b0>\"\u001b[0;36m, line \u001b[0;32m3\u001b[0m\n\u001b[0;31m    Relevant_keywords_Diagnosis =\u001b[0m\n\u001b[0m                                  ^\u001b[0m\n\u001b[0;31mSyntaxError\u001b[0m\u001b[0;31m:\u001b[0m invalid syntax\n"
     ]
    }
   ],
   "source": [
    "#Use ReGex to filter for relevant keywords\n",
    "Relevant_keywords_CO = pd.list[\"chest pain\", \"SOB\"]\n",
    "Relevant_keywords_Diagnosis = \n",
    "Relevant_keywords_other = "
   ]
  },
  {
   "cell_type": "markdown",
   "metadata": {},
   "source": [
    "Use ReGex to search freeform text column to match symptoms which were documented on admission."
   ]
  },
  {
   "cell_type": "code",
   "execution_count": null,
   "metadata": {},
   "outputs": [],
   "source": [
    "#Use ReGex to match specific symptoms: Chest pain \n",
    "\n",
    "#Convert data type from object to string\n",
    "As_ser = HFdf[\"CO\"]\n",
    "As_str = As_ser.astype(str).str\n",
    "\n",
    "#Make string lowercase\n",
    "As_lowerc = As_str.lower()\n",
    "\n",
    "# Create a new column called \"CO_chest_pain\" to store boolean value, True if symptom present, otherwise False\n",
    "HFdf[\"CO_chest_pain\"] = As_lowerc.str.contains(r\"\\w*\\s?chest\\s?pain\\w*\", regex=True)\n",
    "\n",
    "#Count unique instances of chest pain as a presenting symptom\n",
    "print(HFdf[\"CO_chest_pain\"].value_counts())"
   ]
  },
  {
   "cell_type": "code",
   "execution_count": null,
   "metadata": {},
   "outputs": [],
   "source": [
    "#Use ReGex to match specific symptoms - Sweating"
   ]
  },
  {
   "cell_type": "code",
   "execution_count": null,
   "metadata": {},
   "outputs": [],
   "source": [
    "#Use ReGex to match specific symptoms - Nausea or Vomiting"
   ]
  },
  {
   "cell_type": "code",
   "execution_count": null,
   "metadata": {},
   "outputs": [],
   "source": [
    "#Pull only rows which did not contain either of the three presenting symptomes found by ReGex \n",
    "# Save these rows of unique atypical presentations as HFdata_df[\"CO_unique_atypical\"]"
   ]
  },
  {
   "cell_type": "code",
   "execution_count": null,
   "metadata": {},
   "outputs": [],
   "source": [
    "#Histogram showing percentage of pts exhibiting most common symptoms - by age group, gender.\n",
    "\n",
    "#Maybe put this lower in with Basic stat analysis..."
   ]
  },
  {
   "cell_type": "markdown",
   "metadata": {},
   "source": [
    "Use ReGex to search column containing free-form string data on established diagnosis (\"Diagnosis\")"
   ]
  },
  {
   "cell_type": "markdown",
   "metadata": {},
   "source": [
    "## Basic Statistical Analysis "
   ]
  },
  {
   "cell_type": "code",
   "execution_count": 24,
   "metadata": {},
   "outputs": [
    {
     "data": {
      "image/png": "[encoded data removed]",
      "text/plain": [
       "<Figure size 720x360 with 2 Axes>"
      ]
     },
     "metadata": {
      "needs_background": "light"
     },
     "output_type": "display_data"
    }
   ],
   "source": [
    "#Barchart showing breakdown of data by: Gender, and Age Group subgroup and gender\n",
    "\n",
    "fig, (ax0, ax1) = plt.subplots(nrows=1, ncols=2, figsize=(10,5))\n",
    "\n",
    "ax0.hist(HFdf[\"Gender\"], color=\"steelblue\")\n",
    "ax0.set_xlabel(\"Gender\")\n",
    "ax0.set_ylabel(\"Count\")\n",
    "ax0.set_title(\"Gender representation in dataset\")\n",
    "\n",
    "age_group_order = [\"21-30\", \"31-40\", \"41-50\", \"51-60\", \"61-70\"]\n",
    "grouped = HFdf.groupby([\"Age.Group\", \"Gender\"])\n",
    "counts = grouped.size().unstack()\n",
    "colours = [\"lightcoral\", \"steelblue\"]\n",
    "\n",
    "counts.plot(kind=\"bar\", stacked=True, color=colours, ax=ax1)\n",
    "plt.xlabel(\"Age Group\")\n",
    "plt.ylabel(\"Count\")\n",
    "plt.title(\"Distribution of Age Groups by Gender\")\n",
    "plt.tight_layout(h_pad=2.0, w_pad=2.0)\n",
    "plt.show()\n"
   ]
  },
  {
   "cell_type": "code",
   "execution_count": 25,
   "metadata": {},
   "outputs": [
    {
     "data": {
      "image/png": "[encoded data removed]",
      "text/plain": [
       "<Figure size 1008x648 with 2 Axes>"
      ]
     },
     "metadata": {
      "needs_background": "light"
     },
     "output_type": "display_data"
    }
   ],
   "source": [
    "#Boxplot and stripplot showing breakdown of dataset for mortality by: Gender and Age\n",
    "\n",
    "fig, (ax0, ax1) = plt.subplots(nrows=1, ncols=2, figsize=(14,9))\n",
    "sns.set()\n",
    "colours = {\"Female\": \"r\", \"Male\":\"b\"}\n",
    "\n",
    "sns.boxplot(data=HFdf, x=\"Gender\", y=\"Age\", palette=colours, ax=ax0)\n",
    "ax0.set_title(\"Age of admitted patients by gender\")\n",
    "\n",
    "sns.stripplot(data=HFdf, x=\"Gender\", y=\"Age\", hue=\"Mortality\", jitter=True, ax=ax1)\n",
    "ax1.set_title(\"Mortality as outcome by patient gender and age\")\n",
    "\n",
    "plt.tight_layout(h_pad=2.0, w_pad=2.0)\n",
    "plt.show()"
   ]
  },
  {
   "cell_type": "code",
   "execution_count": 26,
   "metadata": {},
   "outputs": [
    {
     "name": "stdout",
     "output_type": "stream",
     "text": [
      "   Depression  Hyperlipi  Smoking  F.History  Diabetes  HTN  Allergies\n",
      "0           1          1        0          0         0    0          0\n",
      "1           1          1        0          0         1    0          0\n",
      "2           1          1        0          0         0    1          0\n",
      "3           1          1        0          0         0    1          0\n",
      "4           1          1        0          0         0    1          0\n"
     ]
    }
   ],
   "source": [
    "#MOrtality by Age.Group and location\n",
    "\n",
    "print(df_pmhx.head())"
   ]
  },
  {
   "cell_type": "code",
   "execution_count": 27,
   "metadata": {
    "scrolled": false
   },
   "outputs": [
    {
     "data": {
      "image/png": "[encoded data removed]",
      "text/plain": [
       "<Figure size 1080x432 with 4 Axes>"
      ]
     },
     "metadata": {},
     "output_type": "display_data"
    }
   ],
   "source": [
    "#Mortality hist? correlation? by comorbidity : Depression, Hyperlipidemia, Smoking, DM, HTN\n",
    "\n",
    "fig, (ax0, ax1) = plt.subplots(nrows=1, ncols=2, figsize=(15,6))\n",
    "sns.set()\n",
    "\n",
    "sns.heatmap(df_bloods_chem.corr(), annot=True, ax=ax0)\n",
    "ax0.set_title(\"Correlation heatmap for blood chemistry\")\n",
    "\n",
    "sns.heatmap(df_pmhx.corr(), annot=True, ax=ax1)\n",
    "ax1.set_title(\"Correlation heatmap for comorbidities\")\n",
    "\n",
    "plt.tight_layout(h_pad=2.0, w_pad=2.0)\n",
    "\n",
    "plt.show()\n",
    "\n",
    "#CK.MB corr with CPK - MI\n",
    "#Cr corr with BUN and K - renal failure\n",
    "#K corr with BUN and Cr - Renal failure \n",
    "#ESR corr with K - ??? myocardial injury?\n",
    "\n",
    "#Lipids corr with Depression - meds?\n",
    "#Smokign corr with lipids\n",
    "#HTN not corr with smoking and DM "
   ]
  },
  {
   "cell_type": "markdown",
   "metadata": {},
   "source": [
    "It is interesting to note that Hypertenssion does not correlate with Smoking or Diabetes, two conditions that are known to be associated. A further sanity check of the HTN data should be done (similar to the sanity check done on the Diabetes column)."
   ]
  },
  {
   "cell_type": "code",
   "execution_count": 28,
   "metadata": {},
   "outputs": [
    {
     "name": "stdout",
     "output_type": "stream",
     "text": [
      "HTN\n",
      "NO     122.672455\n",
      "YES    120.000995\n",
      "Name: BP, dtype: float64\n",
      "HTN\n",
      "NO     26.382701\n",
      "YES    22.891328\n",
      "Name: BP, dtype: float64\n"
     ]
    }
   ],
   "source": [
    "#Sanity check on the HTN column\n",
    "groupedBP = HFdf.groupby('HTN')['BP'].mean()\n",
    "groupedBPstd = HFdf.groupby('HTN')['BP'].std()\n",
    "print(groupedBP.head())\n",
    "print(groupedBPstd.head())"
   ]
  },
  {
   "cell_type": "code",
   "execution_count": null,
   "metadata": {},
   "outputs": [],
   "source": [
    "#Correlation: BP, BGR - scatter\n"
   ]
  },
  {
   "cell_type": "code",
   "execution_count": null,
   "metadata": {},
   "outputs": [],
   "source": [
    "#Correlation: Bloods Chem?"
   ]
  },
  {
   "cell_type": "code",
   "execution_count": null,
   "metadata": {},
   "outputs": [],
   "source": [
    "#Correlation:Diagnosis? - if regex done"
   ]
  },
  {
   "cell_type": "code",
   "execution_count": null,
   "metadata": {},
   "outputs": [],
   "source": [
    "#Correlation: CP value ******** linear regression"
   ]
  },
  {
   "cell_type": "code",
   "execution_count": null,
   "metadata": {},
   "outputs": [],
   "source": [
    "#Correlation: Followup? - maybe"
   ]
  },
  {
   "cell_type": "markdown",
   "metadata": {},
   "source": [
    "## Machine Learning"
   ]
  },
  {
   "cell_type": "markdown",
   "metadata": {},
   "source": [
    "Using a supervised learning algorythm, "
   ]
  },
  {
   "cell_type": "code",
   "execution_count": null,
   "metadata": {},
   "outputs": [],
   "source": [
    "#Use clustering to determine correlation between age, cholesterol and mortality"
   ]
  },
  {
   "cell_type": "code",
   "execution_count": null,
   "metadata": {},
   "outputs": [],
   "source": []
  },
  {
   "cell_type": "markdown",
   "metadata": {},
   "source": [
    "Hyperparameter tuning"
   ]
  },
  {
   "cell_type": "code",
   "execution_count": null,
   "metadata": {},
   "outputs": [],
   "source": [
    "#..."
   ]
  },
  {
   "cell_type": "code",
   "execution_count": null,
   "metadata": {},
   "outputs": [],
   "source": []
  },
  {
   "cell_type": "code",
   "execution_count": null,
   "metadata": {},
   "outputs": [],
   "source": []
  }
 ],
 "metadata": {
  "kernelspec": {
   "display_name": "Python 3",
   "language": "python",
   "name": "python3"
  },
  "language_info": {
   "codemirror_mode": {
    "name": "ipython",
    "version": 3
   },
   "file_extension": ".py",
   "mimetype": "text/x-python",
   "name": "python",
   "nbconvert_exporter": "python",
   "pygments_lexer": "ipython3",
   "version": "3.8.5"
  }
 },
 "nbformat": 4,
 "nbformat_minor": 4
}
